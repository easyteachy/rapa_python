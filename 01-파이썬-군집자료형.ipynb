{
 "cells": [
  {
   "cell_type": "markdown",
   "id": "a346cb4f",
   "metadata": {},
   "source": [
    "## 1. 리스트 : List"
   ]
  },
  {
   "cell_type": "code",
   "execution_count": 4,
   "id": "fd94a679",
   "metadata": {},
   "outputs": [
    {
     "name": "stdout",
     "output_type": "stream",
     "text": [
      "[1, 2, 3, 4, 5, 6, 7, 8, 9, 10]\n"
     ]
    }
   ],
   "source": [
    "# 리스트 생성\n",
    "myList = list()   #[]\n",
    "\n",
    "# 리스트에 데이터 넣기\n",
    "\n",
    "for i in range(1,11):\n",
    "    myList.append(i)     #리스트에 데이터 넣기\n",
    "\n",
    "print(myList)"
   ]
  },
  {
   "cell_type": "code",
   "execution_count": 6,
   "id": "2be3c99e",
   "metadata": {},
   "outputs": [
    {
     "name": "stdout",
     "output_type": "stream",
     "text": [
      "[1, 2, 3, 4, 5, 6, 7, 8, 9, 10]\n"
     ]
    }
   ],
   "source": [
    "myList = list(range(1,11))\n",
    "print(myList)"
   ]
  },
  {
   "cell_type": "code",
   "execution_count": 7,
   "id": "0cda0f24",
   "metadata": {},
   "outputs": [
    {
     "name": "stdout",
     "output_type": "stream",
     "text": [
      "[range(1, 11)]\n"
     ]
    }
   ],
   "source": [
    "myList = [range(1,11)]\n",
    "print(myList)"
   ]
  },
  {
   "cell_type": "markdown",
   "id": "69421979",
   "metadata": {},
   "source": [
    "### 리스트 요소에 접근"
   ]
  },
  {
   "cell_type": "code",
   "execution_count": 9,
   "id": "a87d4587",
   "metadata": {},
   "outputs": [
    {
     "name": "stdout",
     "output_type": "stream",
     "text": [
      "blue\n",
      "['blue', 'black', 'white']\n"
     ]
    }
   ],
   "source": [
    "# 인덱싱 & 슬라이싱\n",
    "colors = ['red','green','blue','black','white']\n",
    "print(colors[2])\n",
    "print(colors[2:])"
   ]
  },
  {
   "cell_type": "code",
   "execution_count": 10,
   "id": "91b19090",
   "metadata": {},
   "outputs": [
    {
     "name": "stdout",
     "output_type": "stream",
     "text": [
      "나는 red 색상을 좋아합니다.\n",
      "나는 green 색상을 좋아합니다.\n",
      "나는 blue 색상을 좋아합니다.\n",
      "나는 black 색상을 좋아합니다.\n",
      "나는 white 색상을 좋아합니다.\n"
     ]
    }
   ],
   "source": [
    "colors = ['red','green','blue','black','white']\n",
    "\n",
    "for color in colors:\n",
    "    print(f'나는 {color} 색상을 좋아합니다.')"
   ]
  },
  {
   "cell_type": "code",
   "execution_count": 11,
   "id": "7d92f101",
   "metadata": {},
   "outputs": [
    {
     "name": "stdout",
     "output_type": "stream",
     "text": [
      "['red', 'green', 'blue', 'black', 'white', 'apple', 'grape', 'orange']\n"
     ]
    }
   ],
   "source": [
    "colors = ['red','green','blue','black','white']\n",
    "fruits = ['apple', 'grape', 'orange']\n",
    "\n",
    "print(colors+fruits)"
   ]
  },
  {
   "cell_type": "markdown",
   "id": "fd5e3872",
   "metadata": {},
   "source": [
    "### 리스트에 요소 추가하기"
   ]
  },
  {
   "cell_type": "code",
   "execution_count": 12,
   "id": "5edb8019",
   "metadata": {},
   "outputs": [
    {
     "data": {
      "text/plain": [
       "['red', 'green', 'blue', 'black', 'white', 'violet']"
      ]
     },
     "execution_count": 12,
     "metadata": {},
     "output_type": "execute_result"
    }
   ],
   "source": [
    "colors.append('violet')\n",
    "colors"
   ]
  },
  {
   "cell_type": "markdown",
   "id": "509f98bf",
   "metadata": {},
   "source": [
    "### 리스트에서 요소 삭제하기"
   ]
  },
  {
   "cell_type": "code",
   "execution_count": 13,
   "id": "c6ed2724",
   "metadata": {},
   "outputs": [
    {
     "data": {
      "text/plain": [
       "['red', 'green', 'blue', 'white', 'violet']"
      ]
     },
     "execution_count": 13,
     "metadata": {},
     "output_type": "execute_result"
    }
   ],
   "source": [
    "colors.remove('black')\n",
    "colors"
   ]
  },
  {
   "cell_type": "markdown",
   "id": "4faca78f",
   "metadata": {},
   "source": [
    "### 리스트의 특정 요소 변경하기"
   ]
  },
  {
   "cell_type": "code",
   "execution_count": 14,
   "id": "5f01f6e2",
   "metadata": {},
   "outputs": [
    {
     "data": {
      "text/plain": [
       "['red', 'green', 'Blue', 'white', 'violet']"
      ]
     },
     "execution_count": 14,
     "metadata": {},
     "output_type": "execute_result"
    }
   ],
   "source": [
    "colors[2] = 'Blue'\n",
    "colors"
   ]
  },
  {
   "cell_type": "markdown",
   "id": "ce9833be",
   "metadata": {},
   "source": [
    "### 리스트의 맨 뒤에 항목 뽑기"
   ]
  },
  {
   "cell_type": "code",
   "execution_count": 15,
   "id": "3e424173",
   "metadata": {},
   "outputs": [
    {
     "data": {
      "text/plain": [
       "['red', 'green', 'Blue', 'white']"
      ]
     },
     "execution_count": 15,
     "metadata": {},
     "output_type": "execute_result"
    }
   ],
   "source": [
    "colors.pop()\n",
    "colors"
   ]
  },
  {
   "cell_type": "code",
   "execution_count": 17,
   "id": "423d2a77",
   "metadata": {},
   "outputs": [
    {
     "data": {
      "text/plain": [
       "['Blue', 'green', 'red', 'white']"
      ]
     },
     "execution_count": 17,
     "metadata": {},
     "output_type": "execute_result"
    }
   ],
   "source": [
    "colors.sort()\n",
    "colors"
   ]
  },
  {
   "cell_type": "code",
   "execution_count": 18,
   "id": "9808f36f",
   "metadata": {},
   "outputs": [
    {
     "data": {
      "text/plain": [
       "['white', 'red', 'green', 'Blue']"
      ]
     },
     "execution_count": 18,
     "metadata": {},
     "output_type": "execute_result"
    }
   ],
   "source": [
    "colors.reverse()\n",
    "colors"
   ]
  },
  {
   "cell_type": "code",
   "execution_count": 19,
   "id": "6aeadf3f",
   "metadata": {},
   "outputs": [
    {
     "data": {
      "text/plain": [
       "2"
      ]
     },
     "execution_count": 19,
     "metadata": {},
     "output_type": "execute_result"
    }
   ],
   "source": [
    "# 특정 항목의 위치 찾기\n",
    "colors.index('green')"
   ]
  },
  {
   "cell_type": "code",
   "execution_count": 20,
   "id": "209d320e",
   "metadata": {},
   "outputs": [
    {
     "data": {
      "text/plain": [
       "['white', 'red', 'orange', 'green', 'Blue']"
      ]
     },
     "execution_count": 20,
     "metadata": {},
     "output_type": "execute_result"
    }
   ],
   "source": [
    "# 특정 위치에 값 삽입\n",
    "colors.insert(2, 'orange')\n",
    "colors"
   ]
  },
  {
   "cell_type": "markdown",
   "id": "82a04d24",
   "metadata": {},
   "source": [
    "### 2차원 리스트\n"
   ]
  },
  {
   "cell_type": "code",
   "execution_count": 22,
   "id": "ed99a11f",
   "metadata": {
    "scrolled": true
   },
   "outputs": [
    {
     "name": "stdout",
     "output_type": "stream",
     "text": [
      "[10, 20, 30]\n",
      "[40, 50, 60, 70]\n",
      "30\n"
     ]
    }
   ],
   "source": [
    "numbers = [[10,20,30],[40,50,60,70]]\n",
    "\n",
    "print(numbers[0])\n",
    "print(numbers[1])\n",
    "\n",
    "print(numbers[0][2])"
   ]
  },
  {
   "cell_type": "markdown",
   "id": "06573e6a",
   "metadata": {},
   "source": [
    "### 3차원 리스트"
   ]
  },
  {
   "cell_type": "code",
   "execution_count": 24,
   "id": "dfe03dcf",
   "metadata": {},
   "outputs": [
    {
     "name": "stdout",
     "output_type": "stream",
     "text": [
      "40\n"
     ]
    }
   ],
   "source": [
    "numbers = [[10,20,30],[[40,50],60,70]]\n",
    "print(numbers[1][0][0])"
   ]
  },
  {
   "cell_type": "markdown",
   "id": "41375ec5",
   "metadata": {},
   "source": [
    "### 실습문제: 리스트에 숫자 넣고 출력하기"
   ]
  },
  {
   "cell_type": "code",
   "execution_count": null,
   "id": "4725b8f4",
   "metadata": {},
   "outputs": [],
   "source": [
    "myList = list()\n",
    "#1.리스트에 1~12까지의 숫자 넣기\n",
    "#2.리스트에서 숫자 꺼내서 출력하기"
   ]
  },
  {
   "cell_type": "code",
   "execution_count": 29,
   "id": "58847ff9",
   "metadata": {},
   "outputs": [
    {
     "name": "stdout",
     "output_type": "stream",
     "text": [
      " 1  2  3  4 \n",
      " 5  6  7  8 \n",
      " 9 10 11 12 \n"
     ]
    }
   ],
   "source": [
    "# 3행 4열 리스트 생성\n",
    "threeFour = [ [0] * 4 for _ in range(3) ]\n",
    "\n",
    "#리스트에 숫자 넣기\n",
    "num = 1\n",
    "for i in range(3):\n",
    "    for j in range(4):\n",
    "        threeFour[i][j] = num\n",
    "        num += 1\n",
    "\n",
    "# 출력하기\n",
    "for i in threeFour:\n",
    "    for j in i:\n",
    "        print(f'{j:>2d}', end=' ')\n",
    "    print()\n"
   ]
  },
  {
   "cell_type": "code",
   "execution_count": 30,
   "id": "d0d9d907",
   "metadata": {},
   "outputs": [
    {
     "name": "stdout",
     "output_type": "stream",
     "text": [
      " 1  2  3  4 \n",
      " 5  6  7  8 \n",
      " 9 10 11 12 "
     ]
    }
   ],
   "source": [
    "myList = list()\n",
    "#1. 리스트에 1~12까지의 숫자 넣기\n",
    "row = 3\n",
    "col = 4\n",
    "for i in range(1,row*col+1):\n",
    "    myList.append(i)\n",
    "#2. 리스트에서 숫자를 꺼내서 출력하기\n",
    "for i in range(0, row*col):\n",
    "    if i%col==0 and i!=0:\n",
    "        print()\n",
    "    print(f\"{myList.pop(0):2}\",end=\" \")"
   ]
  },
  {
   "cell_type": "markdown",
   "id": "33b11958",
   "metadata": {},
   "source": [
    "### 실습문제"
   ]
  },
  {
   "cell_type": "code",
   "execution_count": 32,
   "id": "018931fc",
   "metadata": {},
   "outputs": [],
   "source": [
    "myList = list()\n",
    "for i in range(1,201) :\n",
    "    if i % 3 == 0 :\n",
    "        myList.append(i)"
   ]
  },
  {
   "cell_type": "code",
   "execution_count": 35,
   "id": "71e460d3",
   "metadata": {},
   "outputs": [
    {
     "name": "stdout",
     "output_type": "stream",
     "text": [
      "[3, 6, 9, 12, 15, 18, 21, 24, 27, 30, 33, 36, 39, 42, 45, 48, 51, 54, 57, 60, 63, 66, 69, 72, 75, 78, 81, 84, 87, 90, 93, 96, 99, 102, 105, 108, 111, 114, 117, 120, 123, 126, 129, 132, 135, 138, 141, 144, 147, 150, 153, 156, 159, 162, 165, 168, 171, 174, 177, 180, 183, 186, 189, 192, 195, 198]\n"
     ]
    }
   ],
   "source": [
    "# 리스트 컴프리헨션\n",
    "myList = [ i for i in range(1,201) if i % 3 == 0 ]\n",
    "print(myList)"
   ]
  },
  {
   "cell_type": "markdown",
   "id": "82b6270e",
   "metadata": {},
   "source": [
    "### 실습문제: 아이돌 성적 출력"
   ]
  },
  {
   "cell_type": "code",
   "execution_count": 41,
   "id": "c556deea",
   "metadata": {
    "scrolled": true
   },
   "outputs": [
    {
     "name": "stdout",
     "output_type": "stream",
     "text": [
      "BTS의 성적 입력: 100\n",
      "트와이스의 성적 입력: 80\n",
      "블랙핑크의 성적 입력: 90\n",
      "뉴이스트의 성적 입력: 70\n",
      "------------------------------\n",
      " 아이돌 성적 \n",
      "------------------------------\n",
      "BTS의 성적은 100 점: 수료\n",
      "트와이스의 성적은 80 점: 수료\n",
      "블랙핑크의 성적은 90 점: 수료\n",
      "뉴이스트의 성적은 70 점: 미수료\n"
     ]
    }
   ],
   "source": [
    "idols = ['BTS','트와이스','블랙핑크','뉴이스트']\n",
    "jumsu = []\n",
    "\n",
    "for idx, value in enumerate(idols):\n",
    "    tmp = int(input(f'{value}의 성적 입력: '))\n",
    "    jumsu.append(tmp)\n",
    "\n",
    "print('-'*30)\n",
    "print(' 아이돌 성적 ')\n",
    "print('-'*30)\n",
    "\n",
    "result = ''\n",
    "for i in range(len(idols)):\n",
    "    if jumsu[i] >= 80 :  result = '수료'        \n",
    "    else: result = '미수료'\n",
    "        \n",
    "    print(f'{idols[i]}의 성적은 {jumsu[i]} 점: {result}')\n",
    "    "
   ]
  },
  {
   "cell_type": "code",
   "execution_count": 44,
   "id": "abab0ebe",
   "metadata": {},
   "outputs": [
    {
     "name": "stdout",
     "output_type": "stream",
     "text": [
      "'BTS'의 성적 입력:100\n",
      "'트와이스'의 성적 입력:80\n",
      "'블랙핑크'의 성적 입력:90\n",
      "'뉴이스트'의 성적 입력:70\n",
      "-----------------------------------------\n",
      "아이돌 성적 결과\n",
      "-----------------------------------------\n",
      "'BTS'의 성적은 100점: PASS\n",
      "'트와이스'의 성적은 80점: PASS\n",
      "'블랙핑크'의 성적은 90점: PASS\n",
      "'뉴이스트'의 성적은 70점: FAIL\n"
     ]
    }
   ],
   "source": [
    "idols = ['BTS', '트와이스', '블랙핑크', '뉴이스트']\n",
    "\n",
    "#성적 입력\n",
    "scores = [ int(input(f\"'{idol}'의 성적 입력:\")) for idol in idols ]\n",
    "print(\"\"\"-----------------------------------------\n",
    "아이돌 성적 결과\n",
    "-----------------------------------------\"\"\")\n",
    "# 결과 입력\n",
    "result=[ \"PASS\" if score >= 80 else \"FAIL\" for score in scores ]\n",
    "\n",
    "#최종 성적 출력\n",
    "for i in range(len(idols)):\n",
    "    print(f\"'{idols[i]}'의 성적은 {scores[i]}점: {result[i]}\")\n",
    "\n",
    "for i, v in enumerate(idols):\n",
    "    print(f' i:{i}  v:{v}')\n",
    "    #print(f\"'{v}'의 성적은 {scores[i]}점: {result[i]}\")"
   ]
  },
  {
   "cell_type": "code",
   "execution_count": null,
   "id": "36bb3a56",
   "metadata": {},
   "outputs": [],
   "source": [
    "idols = ['BTS', '트와이스', '블랙핑크', '뉴이스트']\n",
    "scores = [int(input(f\"'{idol}'의 성적 입력:\")) for idol in idols]\n",
    "\n",
    "print(\"\"\"-----------------------------------------\n",
    "아이돌 성적 결과\n",
    "-----------------------------------------\"\"\")\n",
    "result=[\"PASS\" if scores[i]>=80 else \"FAIL\" for i in range(len(scores))]\n",
    "for i, v in enumerate(idols):\n",
    "    print(f\"'{v}'의 성적은 {scores[i]}점: {result[i]}\")"
   ]
  },
  {
   "cell_type": "markdown",
   "id": "985792d0",
   "metadata": {},
   "source": [
    "### 실습문제: 소요일 구하기"
   ]
  },
  {
   "cell_type": "code",
   "execution_count": 46,
   "id": "5f362655",
   "metadata": {},
   "outputs": [
    {
     "name": "stdout",
     "output_type": "stream",
     "text": [
      "년월일을 입력하세요 (YYYYMMDD형식):20210721\n",
      "------------------------------\n",
      "2021//1//1 ~ 2021//7//21 : 202\n"
     ]
    }
   ],
   "source": [
    "ymd = input('년월일을 입력하세요 (YYYYMMDD형식):')\n",
    "\n",
    "year  = int(ymd[:4])\n",
    "month = int(ymd[4:6])\n",
    "day   = int(ymd[6:])\n",
    "\n",
    "dates =[31,28,31,30,31,30,31,31,30,31,30,31]\n",
    "if year%400 ==0 or(year%100 !=0 and year%4 ==0):\n",
    "    dates[1]=29\n",
    "    \n",
    "print(\"-\"*30)\n",
    "\n",
    "days = 0\n",
    "for i in range(month -1):\n",
    "    days += dates[i]\n",
    "days += day\n",
    "\n",
    "print(f'{year}/1/1 ~ {year}/{month}/{day} : {days}')"
   ]
  },
  {
   "cell_type": "code",
   "execution_count": null,
   "id": "56c89fbd",
   "metadata": {},
   "outputs": [],
   "source": [
    "today = input('YYYYMMDD :')\n",
    "\n",
    "today_y = int(today[0:4]); today_m = int(today[4:6]) ; today_d = int(today[6:8])\n",
    "\n",
    "dates = [31,28,31,30,31,30,31,31,30,31,30,31]\n",
    "if today_y % 400 ==0 or (today_y %100 != 0 and today_y % 4 ==0):\n",
    "    dates[1]=29\n",
    "    \n",
    "days = sum(dates[0:today_m-1]) + today_d - 1\n",
    "\n",
    "print('-'*20)\n",
    "print(f'{today_y}/1/1 ~ {today_y}/{today_m}/{today_d} : {days}')"
   ]
  },
  {
   "cell_type": "markdown",
   "id": "3bea01df",
   "metadata": {},
   "source": [
    "### 실습문제: 기간의 소요일 구하기"
   ]
  },
  {
   "cell_type": "code",
   "execution_count": 47,
   "id": "596c6ccb",
   "metadata": {},
   "outputs": [
    {
     "data": {
      "text/plain": [
       "201"
      ]
     },
     "execution_count": 47,
     "metadata": {},
     "output_type": "execute_result"
    }
   ],
   "source": [
    "import datetime\n",
    "\n",
    "start = input('시작일(YYYYMMDD): ')\n",
    "end = input('시작일(YYYYMMDD): ')\n",
    "\n",
    "sday = datetime.datetime.strptime(start, '%Y%m%d')\n",
    "eday = datetime.datetime.strptime(end, '%Y%m%d')\n",
    "print(f'{start} ~ {end}까지의 소요일은 {(eday - sday).days} 일 입니다.')"
   ]
  },
  {
   "cell_type": "code",
   "execution_count": 48,
   "id": "47322398",
   "metadata": {},
   "outputs": [
    {
     "name": "stdout",
     "output_type": "stream",
     "text": [
      "시작일(YYYYMMDD): 20200801\n",
      "시작일(YYYYMMDD): 20210825\n",
      "20200801 ~ 20210825까지의 소요일은 389 일 입니다.\n"
     ]
    }
   ],
   "source": [
    "from datetime import datetime\n",
    "\n",
    "start = input('시작일(YYYYMMDD): ')\n",
    "end = input('시작일(YYYYMMDD): ')\n",
    "\n",
    "sday = datetime.strptime(start, '%Y%m%d')\n",
    "eday = datetime.strptime(end, '%Y%m%d')\n",
    "print(f'{start} ~ {end}까지의 소요일은 {(eday - sday).days} 일 입니다.')\n"
   ]
  },
  {
   "cell_type": "code",
   "execution_count": null,
   "id": "7c70a291",
   "metadata": {},
   "outputs": [],
   "source": []
  }
 ],
 "metadata": {
  "kernelspec": {
   "display_name": "Python 3 (ipykernel)",
   "language": "python",
   "name": "python3"
  },
  "language_info": {
   "codemirror_mode": {
    "name": "ipython",
    "version": 3
   },
   "file_extension": ".py",
   "mimetype": "text/x-python",
   "name": "python",
   "nbconvert_exporter": "python",
   "pygments_lexer": "ipython3",
   "version": "3.8.10"
  }
 },
 "nbformat": 4,
 "nbformat_minor": 5
}
