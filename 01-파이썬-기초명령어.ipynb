{
 "cells": [
  {
   "cell_type": "markdown",
   "id": "0064aa7a",
   "metadata": {},
   "source": [
    "# [1일차 수업]"
   ]
  },
  {
   "cell_type": "markdown",
   "id": "aa5bd484",
   "metadata": {},
   "source": [
    "# 제목\n",
    "## 제목\n",
    "### 제목\n",
    "#### 제목\n",
    "\n",
    " - 오늘은 파이썬 첫 시간입니다.\n",
    " 1. 처음은 항상 즐겁죠.\n",
    " 2. 만나서 반가워요"
   ]
  },
  {
   "cell_type": "code",
   "execution_count": null,
   "id": "2601a16c",
   "metadata": {},
   "outputs": [],
   "source": [
    "hap = 0\n",
    "\n",
    "for i in range(1,11,1):\n",
    "    hap = hap + i\n",
    "    \n",
    "print(f'1에서 10까지 합계: {hap}')   \n"
   ]
  },
  {
   "cell_type": "code",
   "execution_count": null,
   "id": "530d6432",
   "metadata": {},
   "outputs": [],
   "source": [
    "import sys\n",
    "\n",
    "sys.executable"
   ]
  },
  {
   "cell_type": "code",
   "execution_count": null,
   "id": "8368d47c",
   "metadata": {},
   "outputs": [],
   "source": [
    "print(sys.path)"
   ]
  },
  {
   "cell_type": "markdown",
   "id": "116060fb",
   "metadata": {},
   "source": [
    "### 설치된 라이브러리 목록"
   ]
  },
  {
   "cell_type": "code",
   "execution_count": null,
   "id": "0ac24693",
   "metadata": {},
   "outputs": [],
   "source": [
    "pip list\n"
   ]
  },
  {
   "cell_type": "markdown",
   "id": "4defb393",
   "metadata": {},
   "source": [
    "### 특정 라이브러리 정보 확인"
   ]
  },
  {
   "cell_type": "code",
   "execution_count": null,
   "id": "2d70a65a",
   "metadata": {},
   "outputs": [],
   "source": [
    "pip show jupyter"
   ]
  },
  {
   "cell_type": "markdown",
   "id": "aa742717",
   "metadata": {},
   "source": [
    "----------"
   ]
  },
  {
   "cell_type": "markdown",
   "id": "bb4d59bb",
   "metadata": {},
   "source": [
    "## 숫자형 자료 (Numeric Data Type)"
   ]
  },
  {
   "cell_type": "code",
   "execution_count": 10,
   "id": "0246ffbe",
   "metadata": {},
   "outputs": [
    {
     "name": "stdout",
     "output_type": "stream",
     "text": [
      "<class 'float'>\n",
      "<class 'str'>\n",
      "<class 'list'>\n"
     ]
    }
   ],
   "source": [
    "_a = 345.5\n",
    "b = '345'\n",
    "c = [1,2,3,4,5]\n",
    "사과 = '사과'\n",
    "print(type(_a))\n",
    "print(type(b))\n",
    "print(type(c))"
   ]
  },
  {
   "cell_type": "markdown",
   "id": "4cc32a1b",
   "metadata": {},
   "source": [
    "### 정수의 진수 표현"
   ]
  },
  {
   "cell_type": "code",
   "execution_count": 11,
   "id": "2d04b8fa",
   "metadata": {},
   "outputs": [
    {
     "name": "stdout",
     "output_type": "stream",
     "text": [
      "83\n",
      "4764\n",
      "4266\n"
     ]
    }
   ],
   "source": [
    "b1 = 0b1010011\n",
    "o1 = 0o11234\n",
    "h1 = 0x10AA\n",
    "print(b1)\n",
    "print(o1)\n",
    "print(h1)"
   ]
  },
  {
   "cell_type": "code",
   "execution_count": 12,
   "id": "4152fb3c",
   "metadata": {},
   "outputs": [
    {
     "name": "stdout",
     "output_type": "stream",
     "text": [
      "0b1100100\n",
      "0o144\n",
      "0x64\n"
     ]
    }
   ],
   "source": [
    "b2 = bin(100)    # 100을 2진수로 변환\n",
    "o2 = oct(100)    # 100을 8진수로\n",
    "h2 = hex(100)    # 100을 16진수로\n",
    "print(b2)\n",
    "print(o2)\n",
    "print(h2)"
   ]
  },
  {
   "cell_type": "code",
   "execution_count": 14,
   "id": "600d6b2c",
   "metadata": {},
   "outputs": [
    {
     "name": "stdout",
     "output_type": "stream",
     "text": [
      "<class 'int'>\n",
      "<class 'int'>\n",
      "<class 'int'>\n",
      "<class 'str'>\n",
      "<class 'str'>\n",
      "<class 'str'>\n"
     ]
    }
   ],
   "source": [
    "print(type(b1))\n",
    "print(type(o1))\n",
    "print(type(h1))\n",
    "\n",
    "print(type(b2))\n",
    "print(type(o2))\n",
    "print(type(h2))"
   ]
  },
  {
   "cell_type": "markdown",
   "id": "e87f7e36",
   "metadata": {},
   "source": [
    "## 문자열(String)"
   ]
  },
  {
   "cell_type": "code",
   "execution_count": 16,
   "id": "10d9d2ed",
   "metadata": {},
   "outputs": [
    {
     "name": "stdout",
     "output_type": "stream",
     "text": [
      "파이썬 수업시간입니다.\n",
      "OK!\n",
      "\n",
      "파이썬 수업시간입니다.\n",
      "OK!\n"
     ]
    }
   ],
   "source": [
    "s = '파이썬 수업시간입니다.\\nOK!'\n",
    "s2 = '''\n",
    "파이썬 수업시간입니다.\n",
    "OK!'''\n",
    "\n",
    "print(s)\n",
    "print(s2)"
   ]
  },
  {
   "cell_type": "code",
   "execution_count": 18,
   "id": "014c3ab4",
   "metadata": {
    "scrolled": true
   },
   "outputs": [
    {
     "name": "stdout",
     "output_type": "stream",
     "text": [
      "사랑해요파이썬\n",
      "사랑해요 파이썬\n"
     ]
    }
   ],
   "source": [
    "# + 효과\n",
    "head = '사랑해요'\n",
    "tail = '파이썬'\n",
    "print(head+tail)\n",
    "print(head,tail)"
   ]
  },
  {
   "cell_type": "code",
   "execution_count": 19,
   "id": "c094284d",
   "metadata": {},
   "outputs": [
    {
     "name": "stdout",
     "output_type": "stream",
     "text": [
      "------------------------------\n"
     ]
    }
   ],
   "source": [
    "# * --> 반복\n",
    "print('-' * 30)"
   ]
  },
  {
   "cell_type": "markdown",
   "id": "4d30990b",
   "metadata": {},
   "source": [
    "## 기본 입출력 함수\n",
    "### input()"
   ]
  },
  {
   "cell_type": "code",
   "execution_count": 25,
   "id": "0c467ff6",
   "metadata": {},
   "outputs": [
    {
     "name": "stdout",
     "output_type": "stream",
     "text": [
      "숫자 입력: 100\n",
      "<class 'float'>\n",
      "300.0\n"
     ]
    }
   ],
   "source": [
    "a = float(input('숫자 입력: '))\n",
    "print(type(a))\n",
    "\n",
    "print(a + 200)"
   ]
  },
  {
   "cell_type": "code",
   "execution_count": 26,
   "id": "52254748",
   "metadata": {},
   "outputs": [
    {
     "data": {
      "text/plain": [
       "0.0"
      ]
     },
     "execution_count": 26,
     "metadata": {},
     "output_type": "execute_result"
    }
   ],
   "source": [
    "int()\n",
    "float()"
   ]
  },
  {
   "cell_type": "markdown",
   "id": "ef5827c9",
   "metadata": {},
   "source": [
    "### print()"
   ]
  },
  {
   "cell_type": "code",
   "execution_count": 27,
   "id": "3eb1fbe3",
   "metadata": {},
   "outputs": [
    {
     "name": "stdout",
     "output_type": "stream",
     "text": [
      "------------------------------\n",
      "\n",
      "\n",
      "------------------------------\n"
     ]
    }
   ],
   "source": [
    "print('-'*30)\n",
    "print()\n",
    "print()\n",
    "print('-'*30)"
   ]
  },
  {
   "cell_type": "markdown",
   "id": "8ec66df9",
   "metadata": {},
   "source": [
    "### 4칙연산 프로그램\n",
    "#### print() 다양한 출력"
   ]
  },
  {
   "cell_type": "code",
   "execution_count": 32,
   "id": "25c25e3d",
   "metadata": {
    "scrolled": true
   },
   "outputs": [
    {
     "name": "stdout",
     "output_type": "stream",
     "text": [
      "첫번째 숫자: 50\n",
      "두번째 숫자: 20\n",
      "입력된:  50 20\n",
      "덧셈: 50 + 20 = 70\n",
      "뺄셈: 50 - 20 = 30\n",
      "곱셈: 50 * 20 = 1000\n",
      "나눗셈: 50 / 20 = 2\n",
      "몫: 50 // 20 = 2\n",
      "나머지: 50 % 20 = 10\n"
     ]
    }
   ],
   "source": [
    "num1 = int(input('첫번째 숫자: '))\n",
    "num2 = int(input('두번째 숫자: '))\n",
    "\n",
    "print('입력된: ', num1, num2)\n",
    "\n",
    "print('덧셈: %d + %d = %d' % (num1, num2, (num1 + num2)) )\n",
    "print('뺄셈: %d - %d = %d' % (num1, num2, (num1 - num2)))\n",
    "print('곱셈: %d * %d = %d' % (num1, num2, (num1 * num2)))\n",
    "print('나눗셈: %d / %d = %d' % (num1, num2, (num1 / num2)))\n",
    "print('몫: %d // %d = %d' % (num1, num2, (num1 // num2)))\n",
    "print('나머지: %d %% %d = %d' % (num1, num2, (num1 % num2)) )"
   ]
  },
  {
   "cell_type": "markdown",
   "id": "f3e28b51",
   "metadata": {},
   "source": [
    "### f-string"
   ]
  },
  {
   "cell_type": "code",
   "execution_count": 38,
   "id": "82ac2cda",
   "metadata": {
    "scrolled": true
   },
   "outputs": [
    {
     "name": "stdout",
     "output_type": "stream",
     "text": [
      "첫번째 숫자: 50\n",
      "두번째 숫자: 20\n",
      "덧셈: 50 + 20 = 70\n",
      "덧셈: 50 + 20 = 70\n"
     ]
    }
   ],
   "source": [
    "num1 = int(input('첫번째 숫자: '))\n",
    "num2 = int(input('두번째 숫자: '))\n",
    "\n",
    "print('덧셈: %d + %d = %d' % (num1, num2, (num1 + num2)) )\n",
    "\n",
    "print(f'덧셈: {num1} + {num2} = {num1 + num2}')"
   ]
  },
  {
   "cell_type": "markdown",
   "id": "e5df46c4",
   "metadata": {},
   "source": [
    "### 실습문제\n",
    "길이와 너비를 입력 받아 면적과 둘레를 계산하여 출력하는 프로그램을 만드세요!"
   ]
  },
  {
   "cell_type": "code",
   "execution_count": 1,
   "id": "3606c03d",
   "metadata": {},
   "outputs": [
    {
     "name": "stdout",
     "output_type": "stream",
     "text": [
      "길이 : 10\n",
      "너비 : 20\n",
      "\n",
      "길이 : 10.00 \\너비 : 20.00 \n",
      "면적 : 200.00\n",
      "둘레 : 60.00 \n"
     ]
    }
   ],
   "source": [
    "length = input( '길이 : ' )\n",
    "width = input( '너비 : ' )\n",
    "\n",
    "area = int(length) * int(width)\n",
    "circumference =  int(length) * 2 + int(width) *2\n",
    "\n",
    "print()\n",
    "print( '길이 : {0:<6.2f}\\너비 : {1:<6.2f}'.format( float( length ), float( width ) ) )\n",
    "print( '면적 : {0:<6.2f}'.format( area ) )\n",
    "print( '둘레 : {0:<6.2f}'.format( circumference ) )"
   ]
  },
  {
   "cell_type": "markdown",
   "id": "1cc9491c",
   "metadata": {},
   "source": [
    "### 실습문제"
   ]
  },
  {
   "cell_type": "code",
   "execution_count": 40,
   "id": "e94f9be2",
   "metadata": {},
   "outputs": [
    {
     "name": "stdout",
     "output_type": "stream",
     "text": [
      "정수: 7\n",
      "7 + 77 + 777 = 861\n"
     ]
    }
   ],
   "source": [
    "a = input('정수: ')\n",
    "\n",
    "n = int(a)\n",
    "nn = int(a+a)\n",
    "nnn = int(a+a+a)\n",
    "\n",
    "print(f'{n} + {nn} + {nnn} = {n+nn+nnn}')"
   ]
  },
  {
   "cell_type": "code",
   "execution_count": 2,
   "id": "60a161f4",
   "metadata": {},
   "outputs": [
    {
     "name": "stdout",
     "output_type": "stream",
     "text": [
      "정수를 입력하세요: 7\n",
      "7 + 77 + 777 = 861\n"
     ]
    }
   ],
   "source": [
    "a = int(input('정수를 입력하세요: '))\n",
    "\n",
    "n = int(\"%d\" % a)\n",
    "nn = int(\"%d%d\" % (a,a))\n",
    "nnn = int(\"%d%d%d\" % (a,a,a))\n",
    "\n",
    "print(f'{n} + {nn} + {nnn} = {n+nn+nnn}')"
   ]
  }
 ],
 "metadata": {
  "kernelspec": {
   "display_name": "Python 3 (ipykernel)",
   "language": "python",
   "name": "python3"
  },
  "language_info": {
   "codemirror_mode": {
    "name": "ipython",
    "version": 3
   },
   "file_extension": ".py",
   "mimetype": "text/x-python",
   "name": "python",
   "nbconvert_exporter": "python",
   "pygments_lexer": "ipython3",
   "version": "3.8.10"
  }
 },
 "nbformat": 4,
 "nbformat_minor": 5
}
