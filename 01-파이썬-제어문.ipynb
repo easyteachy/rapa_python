{
 "cells": [
  {
   "cell_type": "markdown",
   "id": "5f5ec0b3",
   "metadata": {},
   "source": [
    "# 제어문"
   ]
  },
  {
   "cell_type": "markdown",
   "id": "41597d25",
   "metadata": {},
   "source": [
    "## 1. if 조건문"
   ]
  },
  {
   "cell_type": "code",
   "execution_count": null,
   "id": "aaa5f666",
   "metadata": {},
   "outputs": [],
   "source": [
    "if 조건문 :\n",
    "    실행   # 조건문이 참일 경우 실행\n",
    "else :\n",
    "    실행   # 조거눔니 거짓일 경우 실행"
   ]
  },
  {
   "cell_type": "code",
   "execution_count": 5,
   "id": "1c585283",
   "metadata": {},
   "outputs": [
    {
     "name": "stdout",
     "output_type": "stream",
     "text": [
      "a는 99보다 크다\n"
     ]
    }
   ],
   "source": [
    "# if\n",
    "a = 100\n",
    "if a > 99 :\n",
    "    print('a는 99보다 크다')"
   ]
  },
  {
   "cell_type": "code",
   "execution_count": 6,
   "id": "cd3d98b3",
   "metadata": {},
   "outputs": [
    {
     "name": "stdout",
     "output_type": "stream",
     "text": [
      "a는 99보다 작거나 같다.\n"
     ]
    }
   ],
   "source": [
    "# if ~ else\n",
    "a = 80\n",
    "if a > 99 :\n",
    "    print('a는 99보다 크다')\n",
    "else:\n",
    "    print('a는 99보다 작거나 같다.')"
   ]
  },
  {
   "cell_type": "code",
   "execution_count": 7,
   "id": "38c473ac",
   "metadata": {},
   "outputs": [
    {
     "name": "stdout",
     "output_type": "stream",
     "text": [
      "a는 85보다 작거나 같다.\n"
     ]
    }
   ],
   "source": [
    "# if 중첩문\n",
    "# if ~ else\n",
    "a = 80\n",
    "if a > 99 :\n",
    "    print('a는 99보다 크다')\n",
    "else:\n",
    "    if a > 85:\n",
    "        print('a는 85보다 크다.')\n",
    "    else:\n",
    "        print('a는 85보다 작거나 같다.')"
   ]
  },
  {
   "cell_type": "code",
   "execution_count": 8,
   "id": "528c8341",
   "metadata": {
    "scrolled": true
   },
   "outputs": [
    {
     "name": "stdout",
     "output_type": "stream",
     "text": [
      "C\n"
     ]
    }
   ],
   "source": [
    "# if ~ elif ~ else\n",
    "a = 80\n",
    "\n",
    "if a > 90: \n",
    "    print('A')\n",
    "elif a > 80:\n",
    "    print('B')\n",
    "elif a > 70:\n",
    "    print('C')\n",
    "else:\n",
    "    print('D')\n",
    "\n"
   ]
  },
  {
   "cell_type": "markdown",
   "id": "59fd0960",
   "metadata": {},
   "source": [
    "### 실습문제: 성적등급 "
   ]
  },
  {
   "cell_type": "code",
   "execution_count": null,
   "id": "4ee303ed",
   "metadata": {},
   "outputs": [],
   "source": [
    "x = int(input(\"성적을 입력해 주세요 : \"))\n",
    "\n",
    "grade = 'D'\n",
    "\n",
    "if x > 89 :\n",
    "    grade = 'A'\n",
    "elif x > 79 :\n",
    "    grade = 'B'\n",
    "elif x > 69 :\n",
    "    grade = 'C'\n",
    "    \n",
    "print(f\"성적: {x}는 {grade}등급입니다.\")"
   ]
  },
  {
   "cell_type": "markdown",
   "id": "247da2ca",
   "metadata": {},
   "source": [
    "### 실습문제: 주민번호로 정보 추출하기"
   ]
  },
  {
   "cell_type": "code",
   "execution_count": 12,
   "id": "f7991a26",
   "metadata": {},
   "outputs": [
    {
     "name": "stdout",
     "output_type": "stream",
     "text": [
      "주민번호: 870701-2409184\n",
      "1987년 07월 01일, 34세, 여성\n"
     ]
    }
   ],
   "source": [
    "import datetime\n",
    "now = datetime.datetime.now()\n",
    "#c_year = now.year   #now.month, now.day, now.hour, now.minute, now.second\n",
    "\n",
    "x = input('주민번호: ')\n",
    "\n",
    "yy = int(x[0:2])\n",
    "\n",
    "if x[7] == '1':\n",
    "    gender = '남성'\n",
    "    yy += 1900      # yy = yy + 1900\n",
    "if x[7] == '2':\n",
    "    gender = '여성'\n",
    "    yy += 1900      # yy = yy + 1900\n",
    "if x[7] == '3':\n",
    "    gender = '남성'\n",
    "    yy += 2000      # yy = yy + 1900\n",
    "if x[7] == '4':\n",
    "    gender = '여성'\n",
    "    yy += 2000      # yy = yy + 1900\n",
    "\n",
    "print(f'{yy}년 {x[2:4]}월 {x[4:6]}일, {int(now.year) - yy}세, {gender}')    "
   ]
  },
  {
   "cell_type": "markdown",
   "id": "d7d704b5",
   "metadata": {},
   "source": [
    "### 실습문제: 괄호 짝꿍 판별"
   ]
  },
  {
   "cell_type": "code",
   "execution_count": 15,
   "id": "e101c57f",
   "metadata": {},
   "outputs": [
    {
     "name": "stdout",
     "output_type": "stream",
     "text": [
      "괄호: )))()()(((\n",
      "[')', ')', ')', '(', ')', '(', ')', '(', '(', '(']\n",
      ")\n",
      ")\n",
      ")\n",
      "(\n",
      ")\n",
      "(\n",
      ")\n",
      "(\n",
      "(\n",
      "(\n"
     ]
    }
   ],
   "source": [
    "a_list = list(input('괄호: '))\n",
    "print(a_list)\n",
    "\n",
    "t = 0\n",
    "for i in a_list:\n",
    "    if i == '(' :\n",
    "        t = t + 1\n",
    "    elif i == ')' :\n",
    "        t = t - 1\n",
    "    \n",
    "    if t < 0 :\n",
    "        break\n",
    "\n",
    "if t == 0 :\n",
    "    print('True')\n",
    "else :\n",
    "    print('False')"
   ]
  },
  {
   "cell_type": "markdown",
   "id": "af1a6ce4",
   "metadata": {},
   "source": [
    "### 실습문제: 커피 자동머신"
   ]
  },
  {
   "cell_type": "code",
   "execution_count": 16,
   "id": "9a3661cc",
   "metadata": {},
   "outputs": [
    {
     "name": "stdout",
     "output_type": "stream",
     "text": [
      "[커피 자동주문 머신 메뉴]\n",
      "----------------------------\n",
      "-아메리카노는 2500원\n",
      "-카페라테는 3000원\n",
      "-카푸치노는 3000원\n",
      "입니다. 원하시는 커피종류와 잔수를 입력하세요.\n",
      "----------------------------\n",
      "아메리카노 몇잔?: 2\n",
      "카페라테 몇잔?: 2\n",
      "카푸치노 몇잔?: 1\n",
      "2 2 1\n"
     ]
    }
   ],
   "source": [
    "menu = '''[커피 자동주문 머신 메뉴]\n",
    "----------------------------\n",
    "-아메리카노는 2500원\n",
    "-카페라테는 3000원\n",
    "-카푸치노는 3000원\n",
    "입니다. 원하시는 커피종류와 잔수를 입력하세요.\n",
    "----------------------------\n",
    "'''\n",
    "\n",
    "coffee1 = int(input(menu+'아메리카노 몇잔?: '))\n",
    "coffee2 = int(input('카페라테 몇잔?: '))\n",
    "coffee3 = int(input('카푸치노 몇잔?: '))\n",
    "#print(coffee1, coffee2, coffee3)\n",
    "\n",
    "total = coffee1*2500 + coffee2*3000 + coffee3*3000\n",
    "print(f'지불할 총 금액은 {total} 원 입니다.')\n",
    "\n",
    "money = int(input('돈을 넣어주세요: '))\n",
    "if money >= total :\n",
    "    print(f'거스름돈은 {money - total} 원 입니다.')\n",
    "else:\n",
    "    print(f'금액이 부족합니다. {total - money} 원을 더 넣어주세요.')"
   ]
  },
  {
   "cell_type": "code",
   "execution_count": 17,
   "id": "bf91e008",
   "metadata": {},
   "outputs": [
    {
     "name": "stdout",
     "output_type": "stream",
     "text": [
      "[커피 자동주문 머신 메뉴]\n",
      "----------------------------\n",
      "-아메리카노는 2500원\n",
      "-카페라테는 3000원\n",
      "-카푸치노는 3000원\n",
      "입니다. 원하시는 커피종류와 잔수를 입력하세요.\n",
      "----------------------------\n",
      "아메리카노 몇잔?: 3\n",
      "너무 많은 주문을 하셨습니다. 다시 주문하세요.\n",
      "[커피 자동주문 머신 메뉴]\n",
      "----------------------------\n",
      "-아메리카노는 2500원\n",
      "-카페라테는 3000원\n",
      "-카푸치노는 3000원\n",
      "입니다. 원하시는 커피종류와 잔수를 입력하세요.\n",
      "----------------------------\n",
      "아메리카노 몇잔?: 5\n",
      "너무 많은 주문을 하셨습니다. 다시 주문하세요.\n",
      "[커피 자동주문 머신 메뉴]\n",
      "----------------------------\n",
      "-아메리카노는 2500원\n",
      "-카페라테는 3000원\n",
      "-카푸치노는 3000원\n",
      "입니다. 원하시는 커피종류와 잔수를 입력하세요.\n",
      "----------------------------\n",
      "아메리카노 몇잔?: 1\n"
     ]
    }
   ],
   "source": [
    "menu = '''[커피 자동주문 머신 메뉴]\n",
    "----------------------------\n",
    "-아메리카노는 2500원\n",
    "-카페라테는 3000원\n",
    "-카푸치노는 3000원\n",
    "입니다. 원하시는 커피종류와 잔수를 입력하세요.\n",
    "----------------------------\n",
    "'''\n",
    "while True:    \n",
    "    coffee1 = int(input(menu+'아메리카노 몇잔?: '))\n",
    "    if coffee1 > 2:\n",
    "        print('너무 많은 주문을 하셨습니다. 다시 주문하세요.')\n",
    "    else:\n",
    "        break\n"
   ]
  },
  {
   "cell_type": "markdown",
   "id": "659f6fb0",
   "metadata": {},
   "source": [
    "### 난수: random"
   ]
  },
  {
   "cell_type": "code",
   "execution_count": 21,
   "id": "96ae5396",
   "metadata": {},
   "outputs": [
    {
     "name": "stdout",
     "output_type": "stream",
     "text": [
      "17\n",
      "10\n",
      "0.3007836829693714\n",
      "14.755642434446973\n",
      "[3, 4, 2, 5, 1]\n"
     ]
    },
    {
     "data": {
      "text/plain": [
       "5"
      ]
     },
     "execution_count": 21,
     "metadata": {},
     "output_type": "execute_result"
    }
   ],
   "source": [
    "import random\n",
    "\n",
    "#정수\n",
    "print(random.randint(10,20))   #    10<= N <=20 중 정수 1개 임의추출\n",
    "print(random.randrange(10,20,2))  # 10<= N <20 2씩 증가 정수 중 1개 임의추출\n",
    "\n",
    "#실수\n",
    "print(random.random())         #0~1사이의 임의의 실수\n",
    "print(random.uniform(10,20))   #10<=N<=20 사이의 임의의 실수\n",
    "\n",
    "a_list = [1,2,3,4,5]   # list(range(1,6))\n",
    "random.shuffle(a_list)\n",
    "print(a_list)\n",
    "\n",
    "random.choice(a_list)"
   ]
  },
  {
   "cell_type": "markdown",
   "id": "6a81d356",
   "metadata": {},
   "source": [
    "### 실습문제: 주사위게임 "
   ]
  },
  {
   "cell_type": "code",
   "execution_count": 26,
   "id": "5c145c8f",
   "metadata": {},
   "outputs": [
    {
     "name": "stdout",
     "output_type": "stream",
     "text": [
      "주사위를 던집니다!\n",
      "___________________________\n",
      "A의 숫자는 3입니다\n",
      "B의 숫자는 6입니다\n",
      "___________________________\n",
      "B가 이겼습니다.\n"
     ]
    }
   ],
   "source": [
    "import random\n",
    "\n",
    "dice1 = random.randint(1,6)  # randrange(1,7)\n",
    "dice2 = random.randint(1,6)\n",
    "\n",
    "print('주사위를 던집니다!\\n___________________________')\n",
    "print(f'A의 숫자는 {dice1}입니다')\n",
    "print(f'B의 숫자는 {dice2}입니다')\n",
    "print('___________________________')\n",
    "\n",
    "if dice1 == dice2 :\n",
    "    print('무승부')\n",
    "elif dice1 > dice2 :\n",
    "    print('A가 이겼습니다.')\n",
    "elif dice1 < dice2 :\n",
    "    print('B가 이겼습니다.')"
   ]
  },
  {
   "cell_type": "markdown",
   "id": "0d4a8d6c",
   "metadata": {},
   "source": [
    "## 2. for 반복문"
   ]
  },
  {
   "cell_type": "code",
   "execution_count": 43,
   "id": "732b32b1",
   "metadata": {},
   "outputs": [
    {
     "name": "stdout",
     "output_type": "stream",
     "text": [
      "[11] python\n",
      "[12] python\n",
      "[13] python\n",
      "[14] python\n",
      "[15] python\n",
      "[16] python\n",
      "[17] python\n",
      "[18] python\n",
      "[19] python\n",
      "[20] python\n"
     ]
    }
   ],
   "source": [
    "#range\n",
    "#range(10)     # 10번\n",
    "#range(1,11,1) # 10번\n",
    "#range(1,11,2) # 2씩 증가 :  1, 3, 5, 7, 9 \n",
    "\n",
    "for i in range(11,21):\n",
    "    print(f'[{i}] python')"
   ]
  },
  {
   "cell_type": "code",
   "execution_count": 42,
   "id": "44ee4dc9",
   "metadata": {},
   "outputs": [
    {
     "name": "stdout",
     "output_type": "stream",
     "text": [
      "[apple] python\n",
      "[b] python\n",
      "[c] python\n",
      "[d] python\n",
      "[e] python\n",
      "[f] python\n",
      "[g] python\n",
      "[h] python\n",
      "[i] python\n",
      "[j] python\n",
      "\n",
      "[0] [apple] python\n",
      "[1] [b] python\n",
      "[2] [c] python\n",
      "[3] [d] python\n",
      "[4] [e] python\n",
      "[5] [f] python\n",
      "[6] [g] python\n",
      "[7] [h] python\n",
      "[8] [i] python\n",
      "[9] [j] python\n"
     ]
    }
   ],
   "source": [
    "#alist = [0,1,2,3,4,5,6,7,8,9]\n",
    "alist = ['apple','b','c','d','e','f','g','h','i','j']\n",
    "\n",
    "for i in alist:\n",
    "    print(f'[{i}] python')\n",
    "print()    \n",
    "for i, value in enumerate(alist):\n",
    "    print(f'[{i}] [{value}] python')"
   ]
  },
  {
   "cell_type": "code",
   "execution_count": 44,
   "id": "2a019fb9",
   "metadata": {},
   "outputs": [
    {
     "name": "stdout",
     "output_type": "stream",
     "text": [
      "python\n",
      "python\n",
      "python\n",
      "python\n",
      "python\n",
      "python\n",
      "python\n",
      "python\n",
      "python\n",
      "python\n"
     ]
    }
   ],
   "source": [
    "for _ in alist:\n",
    "    print(f'python')"
   ]
  },
  {
   "cell_type": "code",
   "execution_count": 45,
   "id": "f66d3dea",
   "metadata": {},
   "outputs": [
    {
     "name": "stdout",
     "output_type": "stream",
     "text": [
      "1~10까지 합: 55\n"
     ]
    }
   ],
   "source": [
    "# 1~10까지 합 구하기\n",
    "hap = 0\n",
    "for i in range(1,11,1):\n",
    "    hap = hap + i\n",
    "print(f'1~10까지 합: {hap}')"
   ]
  },
  {
   "cell_type": "code",
   "execution_count": 46,
   "id": "1c8788ff",
   "metadata": {},
   "outputs": [
    {
     "data": {
      "text/plain": [
       "55"
      ]
     },
     "execution_count": 46,
     "metadata": {},
     "output_type": "execute_result"
    }
   ],
   "source": [
    "sum(list(range(1,11)))"
   ]
  },
  {
   "cell_type": "code",
   "execution_count": 47,
   "id": "af92a2df",
   "metadata": {},
   "outputs": [
    {
     "name": "stdout",
     "output_type": "stream",
     "text": [
      "리스트([70, 30, 40, 30, 50])의 모든 요소의 합은: 220\n"
     ]
    }
   ],
   "source": [
    "# 리스트의 요소의 합 구하기\n",
    "a_list = [70,30,40,30,50]\n",
    "hap = 0\n",
    "for i in a_list:\n",
    "    hap = hap + i\n",
    "print(f'리스트({a_list})의 모든 요소의 합은: {hap}')"
   ]
  },
  {
   "cell_type": "code",
   "execution_count": 50,
   "id": "f33d9915",
   "metadata": {},
   "outputs": [
    {
     "data": {
      "text/plain": [
       "220"
      ]
     },
     "execution_count": 50,
     "metadata": {},
     "output_type": "execute_result"
    }
   ],
   "source": [
    "sum(a_list)  #리스트 요소의 합계"
   ]
  },
  {
   "cell_type": "code",
   "execution_count": 51,
   "id": "587f546e",
   "metadata": {},
   "outputs": [
    {
     "data": {
      "text/plain": [
       "30"
      ]
     },
     "execution_count": 51,
     "metadata": {},
     "output_type": "execute_result"
    }
   ],
   "source": [
    "min(a_list)  #리스트 요소의 최소값"
   ]
  },
  {
   "cell_type": "code",
   "execution_count": 52,
   "id": "38c50346",
   "metadata": {},
   "outputs": [
    {
     "data": {
      "text/plain": [
       "70"
      ]
     },
     "execution_count": 52,
     "metadata": {},
     "output_type": "execute_result"
    }
   ],
   "source": [
    "max(a_list)   #리스트 요소의 최대값"
   ]
  },
  {
   "cell_type": "code",
   "execution_count": 53,
   "id": "275c9542",
   "metadata": {},
   "outputs": [
    {
     "data": {
      "text/plain": [
       "5"
      ]
     },
     "execution_count": 53,
     "metadata": {},
     "output_type": "execute_result"
    }
   ],
   "source": [
    "len(a_list)  #리스트 요소의 개수=리스트 길이"
   ]
  },
  {
   "cell_type": "markdown",
   "id": "0a0f1b8e",
   "metadata": {},
   "source": [
    "### 실습문제: 1~N까지의 합 구하기"
   ]
  },
  {
   "cell_type": "code",
   "execution_count": 48,
   "id": "08a62ba0",
   "metadata": {},
   "outputs": [
    {
     "name": "stdout",
     "output_type": "stream",
     "text": [
      "합계를 구할 숫자 입력: 100\n",
      "1~100까지의 합은: 5050\n"
     ]
    }
   ],
   "source": [
    "n = int(input('합계를 구할 숫자 입력: '))\n",
    "hap = 0\n",
    "for i in range(1, n+1):\n",
    "    hap = hap + i\n",
    "print(f'1~{n}까지의 합은: {hap}')"
   ]
  },
  {
   "cell_type": "markdown",
   "id": "8a83dbf4",
   "metadata": {},
   "source": [
    "### 실습문제: 1~N까지 짝수를 제외한 합 구하기"
   ]
  },
  {
   "cell_type": "code",
   "execution_count": 49,
   "id": "f59fbc82",
   "metadata": {},
   "outputs": [
    {
     "name": "stdout",
     "output_type": "stream",
     "text": [
      "합계를 구할 숫자를 입력하시오 :100\n",
      "1부터 100까지 홀수의 합은 2500다.\n"
     ]
    }
   ],
   "source": [
    "n = int(input('합계를 구할 숫자를 입력하시오 :'))\n",
    "hap=0\n",
    "for i in range(1,n+1,2) :\n",
    "    hap += i\n",
    "print(f\"1부터 {n}까지 홀수의 합은 {hap}다.\")"
   ]
  },
  {
   "cell_type": "markdown",
   "id": "86007406",
   "metadata": {},
   "source": [
    "### 실습문제: 구구단 출력"
   ]
  },
  {
   "cell_type": "code",
   "execution_count": 56,
   "id": "aae6dd31",
   "metadata": {},
   "outputs": [
    {
     "name": "stdout",
     "output_type": "stream",
     "text": [
      "구구단 계산기입니다. 몇단을 출력할까요5\n",
      "---5단---\n",
      " 5 * 1 = 5\n",
      " 5 * 2 = 10\n",
      " 5 * 3 = 15\n",
      " 5 * 4 = 20\n",
      " 5 * 5 = 25\n",
      " 5 * 6 = 30\n",
      " 5 * 7 = 35\n",
      " 5 * 8 = 40\n",
      " 5 * 9 = 45\n"
     ]
    }
   ],
   "source": [
    "n = int(input('구구단 계산기입니다. 몇단을 출력할까요'))\n",
    "\n",
    "print(f'---{n}단---')\n",
    "for i in range(1,10,1):\n",
    "    nn = n * i\n",
    "    print(f' {n} * {i} = {nn}')"
   ]
  },
  {
   "cell_type": "markdown",
   "id": "057cae35",
   "metadata": {},
   "source": [
    "### if중첩문"
   ]
  },
  {
   "cell_type": "code",
   "execution_count": 3,
   "id": "0a217fc5",
   "metadata": {},
   "outputs": [
    {
     "name": "stdout",
     "output_type": "stream",
     "text": [
      "숫자 0,숫자 1,숫자 2,숫자 3,숫자 4,숫자 5,숫자 6,숫자 7,숫자 8,숫자 9,"
     ]
    }
   ],
   "source": [
    "for i in range(10):\n",
    "    print('숫자 %d' % i, end=',' )"
   ]
  },
  {
   "cell_type": "markdown",
   "id": "4075e893",
   "metadata": {},
   "source": [
    "### 실습문제: 구구단 출력"
   ]
  },
  {
   "cell_type": "code",
   "execution_count": 10,
   "id": "b2b37206",
   "metadata": {},
   "outputs": [
    {
     "name": "stdout",
     "output_type": "stream",
     "text": [
      "#  2단 #  3단 #  4단 #  5단 #  6단 #  7단 #  8단 #  9단 \n",
      "2x1= 2 3x1= 3 4x1= 4 5x1= 5 6x1= 6 7x1= 7 8x1= 8 9x1= 9 \n",
      "2x2= 4 3x2= 6 4x2= 8 5x2=10 6x2=12 7x2=14 8x2=16 9x2=18 \n",
      "2x3= 6 3x3= 9 4x3=12 5x3=15 6x3=18 7x3=21 8x3=24 9x3=27 \n",
      "2x4= 8 3x4=12 4x4=16 5x4=20 6x4=24 7x4=28 8x4=32 9x4=36 \n",
      "2x5=10 3x5=15 4x5=20 5x5=25 6x5=30 7x5=35 8x5=40 9x5=45 \n",
      "2x6=12 3x6=18 4x6=24 5x6=30 6x6=36 7x6=42 8x6=48 9x6=54 \n",
      "2x7=14 3x7=21 4x7=28 5x7=35 6x7=42 7x7=49 8x7=56 9x7=63 \n",
      "2x8=16 3x8=24 4x8=32 5x8=40 6x8=48 7x8=56 8x8=64 9x8=72 \n",
      "2x9=18 3x9=27 4x9=36 5x9=45 6x9=54 7x9=63 8x9=72 9x9=81 \n"
     ]
    }
   ],
   "source": [
    "for i in range(2,10,1):\n",
    "    print(f'# {i:2}단', end=' ')\n",
    "print()    \n",
    "for i in range(1,10):\n",
    "    for dan in range(2,10):\n",
    "        print(f'{dan}x{i}={dan*i:2}', end=' ')\n",
    "    print()"
   ]
  },
  {
   "cell_type": "markdown",
   "id": "d5aee5da",
   "metadata": {},
   "source": [
    "### 실습문제: 3행 4열 숫자 배열 출력"
   ]
  },
  {
   "cell_type": "code",
   "execution_count": 11,
   "id": "0b9fcce3",
   "metadata": {},
   "outputs": [
    {
     "name": "stdout",
     "output_type": "stream",
     "text": [
      " 1  2  3  4 \n",
      " 5  6  7  8 \n",
      " 9 10 11 12 \n"
     ]
    }
   ],
   "source": [
    "v = 1\n",
    "for i in range(3):                #행(row)\n",
    "    for j in range(4):\n",
    "        print(f'{v:2}', end=' ')  #열(column)\n",
    "        v += 1     # v = v + 1\n",
    "    print()"
   ]
  },
  {
   "cell_type": "code",
   "execution_count": 19,
   "id": "5f0e99e0",
   "metadata": {},
   "outputs": [
    {
     "name": "stdout",
     "output_type": "stream",
     "text": [
      " 1  4  7 10 \n",
      " 2  5  8 11 \n",
      " 3  6  9 12 \n"
     ]
    }
   ],
   "source": [
    "for i in range(3): \n",
    "    v = 1\n",
    "    for j in range(4):\n",
    "        print(f'{v+i:2}', end=' ')\n",
    "        v += 3\n",
    "    print()"
   ]
  },
  {
   "cell_type": "markdown",
   "id": "d534e5e7",
   "metadata": {},
   "source": [
    "### 실습문제: 100회 주사위 던져 각 숫자 횟수 출력"
   ]
  },
  {
   "cell_type": "code",
   "execution_count": 22,
   "id": "19a793c4",
   "metadata": {},
   "outputs": [
    {
     "name": "stdout",
     "output_type": "stream",
     "text": [
      "주사위 숫자별 개수: D1[22],D2[16],D3[15],D4[20],D5[14],D6[13]\n",
      "\n",
      "가장 많이 나온 주사위 숫자: 1, 횟수22\n"
     ]
    }
   ],
   "source": [
    "import random\n",
    "\n",
    "d1,d2,d3,d4,d5,d6=0,0,0,0,0,0\n",
    "for i in range(100):\n",
    "    x = random.randint(1,6)    \n",
    "    if x == 1: d1 += 1\n",
    "    if x == 2: d2 += 1\n",
    "    if x == 3: d3 += 1\n",
    "    if x == 4: d4 += 1\n",
    "    if x == 5: d5 += 1\n",
    "    if x == 6: d6 += 1     \n",
    "        \n",
    "max_v, max_d = d1, 1\n",
    "if max_v < d2: \n",
    "    max_v = d2\n",
    "    max_d = 2\n",
    "if max_v < d3: \n",
    "    max_v = d3\n",
    "    max_d = 3\n",
    "if max_v < d4: \n",
    "    max_v = d4\n",
    "    max_d = 4\n",
    "if max_v < d5: \n",
    "    max_v = d5\n",
    "    max_d = 5\n",
    "if max_v < d6: \n",
    "    max_v = d6\n",
    "    max_d = 6\n",
    "\n",
    "print(f'주사위 숫자별 개수: D1[{d1}],D2[{d2}],D3[{d3}],D4[{d4}],D5[{d5}],D6[{d6}]')    \n",
    "print(f'\\n가장 많이 나온 주사위 숫자: {max_d}, 횟수{max_v}')\n"
   ]
  },
  {
   "cell_type": "markdown",
   "id": "58ac94a2",
   "metadata": {},
   "source": [
    "## 3.while 반복문"
   ]
  },
  {
   "cell_type": "code",
   "execution_count": 23,
   "id": "ca592b3c",
   "metadata": {},
   "outputs": [
    {
     "name": "stdout",
     "output_type": "stream",
     "text": [
      "5050\n"
     ]
    }
   ],
   "source": [
    "hap = 0\n",
    "for i in range(1, 101):\n",
    "    hap += i\n",
    "print(hap)"
   ]
  },
  {
   "cell_type": "code",
   "execution_count": 24,
   "id": "2c2a2a2f",
   "metadata": {},
   "outputs": [
    {
     "name": "stdout",
     "output_type": "stream",
     "text": [
      "5050\n"
     ]
    }
   ],
   "source": [
    "hap, i = 0, 1\n",
    "while i < 101:\n",
    "    hap += i\n",
    "    i += 1\n",
    "print(hap)"
   ]
  },
  {
   "cell_type": "code",
   "execution_count": 25,
   "id": "c62b65a8",
   "metadata": {},
   "outputs": [
    {
     "name": "stdout",
     "output_type": "stream",
     "text": [
      "5050\n"
     ]
    }
   ],
   "source": [
    "hap, i = 0, 1\n",
    "while True:\n",
    "    hap += i\n",
    "    i += 1\n",
    "    if i > 100:\n",
    "        break\n",
    "print(hap)"
   ]
  },
  {
   "cell_type": "markdown",
   "id": "fe40952e",
   "metadata": {},
   "source": [
    "### 실습문제: 나무 10번 찍어 넘기기"
   ]
  },
  {
   "cell_type": "code",
   "execution_count": 29,
   "id": "29c53dbb",
   "metadata": {},
   "outputs": [
    {
     "name": "stdout",
     "output_type": "stream",
     "text": [
      "나무를 1번 찍었습니다.\n",
      "나무를 2번 찍었습니다.\n",
      "나무를 3번 찍었습니다.\n",
      "나무를 4번 찍었습니다.\n",
      "나무를 5번 찍었습니다.\n",
      "나무를 6번 찍었습니다.\n",
      "나무를 7번 찍었습니다.\n",
      "나무를 8번 찍었습니다.\n",
      "나무를 9번 찍었습니다.\n",
      "나무를 10번 찍었습니다.\n",
      "나무 넘어 갑니다~\n"
     ]
    }
   ],
   "source": [
    "treehit = 0\n",
    "while treehit < 10: \n",
    "    treehit += 1\n",
    "    print('나무를 %d번 찍었습니다.'% treehit )\n",
    "print('나무 넘어 갑니다~')"
   ]
  },
  {
   "cell_type": "markdown",
   "id": "e39ec304",
   "metadata": {},
   "source": [
    "### 실습문제: while 무한반복 빠져나오기"
   ]
  },
  {
   "cell_type": "code",
   "execution_count": 31,
   "id": "c06ae8ef",
   "metadata": {},
   "outputs": [
    {
     "name": "stdout",
     "output_type": "stream",
     "text": [
      "\n",
      "    1.Add  2.Del  3.Modify  4.Quit\n",
      "    \n",
      "    Enter Number: 1\n",
      "입력한 숫자는 [1]\n",
      "\n",
      "    1.Add  2.Del  3.Modify  4.Quit\n",
      "    \n",
      "    Enter Number: 2\n",
      "입력한 숫자는 [2]\n",
      "\n",
      "    1.Add  2.Del  3.Modify  4.Quit\n",
      "    \n",
      "    Enter Number: 4\n",
      "입력한 숫자는 [4]\n",
      "프로그램을 종료합니다.\n"
     ]
    }
   ],
   "source": [
    "prompt = \"\"\"\n",
    "    1.Add  2.Del  3.Modify  4.Quit\n",
    "    \n",
    "    Enter Number: \"\"\"\n",
    "\n",
    "while True:\n",
    "    num = input(prompt)\n",
    "    print(f'입력한 숫자는 [{num}]')\n",
    "    \n",
    "    if num == '4':\n",
    "        break\n",
    "        \n",
    "print('프로그램을 종료합니다.')"
   ]
  },
  {
   "cell_type": "markdown",
   "id": "bf1414bb",
   "metadata": {},
   "source": [
    "### 실습문제: while문을 이용한 별 출력하기"
   ]
  },
  {
   "cell_type": "code",
   "execution_count": 32,
   "id": "135af353",
   "metadata": {},
   "outputs": [
    {
     "name": "stdout",
     "output_type": "stream",
     "text": [
      "★\n"
     ]
    }
   ],
   "source": [
    "print('\\u2605')"
   ]
  },
  {
   "cell_type": "code",
   "execution_count": 34,
   "id": "cc5c57bf",
   "metadata": {},
   "outputs": [
    {
     "data": {
      "text/plain": [
       "'1 2 3'"
      ]
     },
     "execution_count": 34,
     "metadata": {},
     "output_type": "execute_result"
    }
   ],
   "source": [
    "\" \".join(\"123\")"
   ]
  },
  {
   "cell_type": "code",
   "execution_count": 35,
   "id": "95d5aa4b",
   "metadata": {},
   "outputs": [
    {
     "data": {
      "text/plain": [
       "['1', '2', '3']"
      ]
     },
     "execution_count": 35,
     "metadata": {},
     "output_type": "execute_result"
    }
   ],
   "source": [
    "(\"1 2 3\").split(\" \")"
   ]
  },
  {
   "cell_type": "code",
   "execution_count": 37,
   "id": "272cd0e2",
   "metadata": {},
   "outputs": [
    {
     "name": "stdout",
     "output_type": "stream",
     "text": [
      "숫자를 여러개 입력하세요 :456789\n",
      "★★★★★★★★\n",
      "★★★★★★★★★★\n",
      "★★★★★★★★★★★★\n",
      "★★★★★★★★★★★★★★\n",
      "★★★★★★★★★★★★★★★★\n",
      "★★★★★★★★★★★★★★★★★★\n"
     ]
    }
   ],
   "source": [
    "num = input('숫자를 여러개 입력하세요 :')\n",
    "i=0\n",
    "while i != len(num):\n",
    "    print('\\u2605' * 2 *int(num[i]))\n",
    "    i+=1"
   ]
  },
  {
   "cell_type": "markdown",
   "id": "859d076f",
   "metadata": {},
   "source": [
    "### 실습문제: 공의 튕긴 횟수"
   ]
  },
  {
   "cell_type": "code",
   "execution_count": 42,
   "id": "a4665055",
   "metadata": {},
   "outputs": [
    {
     "name": "stdout",
     "output_type": "stream",
     "text": [
      "공의 높이를 입력하셍요.(meter): 30\n",
      "시작 30미터 입니다.\n",
      "1 : 15.0미터 입니다.\n",
      "2 : 7.5미터 입니다.\n",
      "3 : 3.75미터 입니다.\n",
      "4 : 1.875미터 입니다.\n",
      "5 : 0.9375미터 입니다.\n",
      "6 : 0.46875미터 입니다.\n",
      "7 : 0.234375미터 입니다.\n",
      "8 : 0.1171875미터 입니다.\n",
      "9 : 0.05859375미터 입니다.\n",
      "10 : 0.029296875미터 입니다.\n",
      "11 : 0.0146484375미터 입니다.\n",
      "12 : 0.00732421875미터 입니다.\n",
      "13 : 0.003662109375미터 입니다.\n",
      "14 : 0.0018310546875미터 입니다.\n",
      "15 : 0.00091552734375미터 입니다.\n",
      "16 : 0.000457763671875미터 입니다.\n",
      "17 : 0.0002288818359375미터 입니다.\n",
      "18 : 0.00011444091796875미터 입니다.\n",
      "19 : 5.7220458984375e-05미터 입니다.\n",
      "20 : 2.86102294921875e-05미터 입니다.\n",
      "21 : 1.430511474609375e-05미터 입니다.\n",
      "22 : 7.152557373046875e-06미터 입니다.\n",
      "30 위치에서 공의 튕긴 횟수는 총 22번 입니다.\n"
     ]
    }
   ],
   "source": [
    "length = int(input('공의 높이를 입력하세요.(meter): '))\n",
    "meter, cnt = length, 0\n",
    "print(f'시작 {meter}미터 입니다.')\n",
    "while True:    \n",
    "    meter /= 2\n",
    "    cnt += 1 \n",
    "    print(f'{cnt} : {meter}미터 입니다.')\n",
    "    \n",
    "    if meter < 0.00001:\n",
    "        break\n",
    "print(f'{length} 위치에서 공의 튕긴 횟수는 총 {cnt}번 입니다.')"
   ]
  },
  {
   "cell_type": "code",
   "execution_count": null,
   "id": "54eb62ca",
   "metadata": {},
   "outputs": [],
   "source": []
  }
 ],
 "metadata": {
  "kernelspec": {
   "display_name": "Python 3 (ipykernel)",
   "language": "python",
   "name": "python3"
  },
  "language_info": {
   "codemirror_mode": {
    "name": "ipython",
    "version": 3
   },
   "file_extension": ".py",
   "mimetype": "text/x-python",
   "name": "python",
   "nbconvert_exporter": "python",
   "pygments_lexer": "ipython3",
   "version": "3.8.10"
  }
 },
 "nbformat": 4,
 "nbformat_minor": 5
}
